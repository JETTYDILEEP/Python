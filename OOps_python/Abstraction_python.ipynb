{
 "cells": [
  {
   "cell_type": "markdown",
   "id": "9c6e4a0e-8cde-457e-afbd-d271c06599ca",
   "metadata": {},
   "source": [
    "## Abstraction "
   ]
  },
  {
   "cell_type": "markdown",
   "id": "dbd51644-73ef-46d2-ac0a-edd204107369",
   "metadata": {},
   "source": [
    "## What is Abstraction in Python?\n",
    "Abstraction in Python refers to the process of creating abstract classes and methods that provide a blueprint for other classes to inherit from. It allows us to define common attributes and behaviors that can be shared among multiple classes. By using abstraction, we can create a hierarchy of classes where each class inherits properties and methods from its parent class.\n",
    "\n",
    "Abstraction helps in organizing code and making it more manageable. It allows us to create modular and reusable code by separating the implementation details from the interface. With abstraction, we can focus on the high-level functionality of a program without worrying about the low-level implementation.\n",
    "\n",
    "## Benefits of Abstraction in Python\n",
    "-> Modularity: Abstraction promotes modularity by breaking down complex systems into smaller, more manageable modules. Each module can be developed and tested independently, making the overall codebase more maintainable.\n",
    "\n",
    "-> Reusability: With abstraction, we can create abstract classes that define common attributes and behaviors. These abstract classes can be inherited by multiple subclasses, allowing us to reuse code and avoid duplication.\n",
    "\n",
    "-> Encapsulation: Abstraction helps in encapsulating the implementation details within a class. By hiding the internal workings of a class, we can protect the data from being accessed or modified directly. This enhances the security and integrity of the code.\n",
    "\n",
    "-> Flexibility: Abstraction provides flexibility by allowing us to modify the implementation of a class without affecting the code that uses it. This makes it easier to adapt and extend the functionality of a program as requirements change.\n",
    "\n",
    "-> Code Readability: By abstracting away unnecessary details, the code becomes more readable and easier to understand. It allows developers to focus on the essential aspects of a program and improves the overall code quality."
   ]
  },
  {
   "cell_type": "markdown",
   "id": "076419a5-ea8d-49c1-beb6-e8c424322d7e",
   "metadata": {},
   "source": [
    "## Implementing Abstraction in Python\n",
    "Abstraction is a fundamental concept in object-oriented programming that allows us to simplify complex concepts and focus on the essential details. In Python, we can implement abstraction using abstract classes, interfaces, encapsulation, and inheritance.\n",
    "\n",
    "### Abstract Classes\n",
    "Abstract classes are classes that cannot be instantiated and are meant to be inherited by other classes. They serve as a blueprint for other classes and define common attributes and methods that the derived classes must implement. Abstract classes can have both abstract methods (methods without an implementation) and concrete methods (methods with an implementation).\n",
    "\n",
    "To create an abstract class in Python, we need to import the `ABC` (Abstract Base Class) module from the `abc` package. We can then define abstract methods using the `@abstractmethod` decorator. Any class that inherits from the abstract class must implement all the abstract methods.\n",
    "\n",
    "### Interfaces\n",
    "Interfaces in Python are similar to abstract classes but with a key difference – they only contain abstract methods and cannot have any concrete methods. An interface defines a contract that the implementing classes must adhere to. It specifies the methods that the implementing classes must implement, but it does not provide any implementation details.\n",
    "\n",
    "In Python, we can create interfaces using abstract classes with only abstract methods. By convention, the names of interfaces are prefixed with “I” (e.g., `IInterface`). Any class that implements an interface must provide an implementation for all the methods defined in the interface."
   ]
  },
  {
   "cell_type": "code",
   "execution_count": 7,
   "id": "041a1dbb-0dc9-4759-ba83-48f955180736",
   "metadata": {},
   "outputs": [],
   "source": [
    "class A:\n",
    "    def running(self):\n",
    "        print(\" a is running\")\n",
    "\n",
    "class B(A):\n",
    "    def running(self):\n",
    "        print(\"b is called\")\n"
   ]
  },
  {
   "cell_type": "code",
   "execution_count": 9,
   "id": "dbe833ca-9b0f-4c50-a914-e15c79883df0",
   "metadata": {},
   "outputs": [
    {
     "name": "stdout",
     "output_type": "stream",
     "text": [
      " a is running\n"
     ]
    }
   ],
   "source": [
    "a = A()\n",
    "a.running()"
   ]
  },
  {
   "cell_type": "code",
   "execution_count": 10,
   "id": "48bfbf10-e118-4443-bd25-f75f4f8bb3be",
   "metadata": {},
   "outputs": [
    {
     "name": "stdout",
     "output_type": "stream",
     "text": [
      "b is called\n"
     ]
    }
   ],
   "source": [
    "b=B()\n",
    "b.running()\n"
   ]
  },
  {
   "cell_type": "code",
   "execution_count": 62,
   "id": "94ada8bd-d7b6-4984-bb9a-39990e6f503a",
   "metadata": {},
   "outputs": [],
   "source": [
    "from abc import ABC, abstractmethod\n",
    "\n",
    "class A(ABC):\n",
    "    @abstractmethod\n",
    "    def running(self):\n",
    "        pass\n",
    "    @abstractmethod\n",
    "    def start(self):\n",
    "        pass\n",
    "\n",
    "    @abstractmethod\n",
    "    def stop(self):\n",
    "        pass\n",
    "\n",
    "\n",
    "class B(A):\n",
    "    def start(self):\n",
    "        print(\"B is started\")\n",
    "        \n",
    "    def running(self):\n",
    "        print(\"B is Running\")\n",
    "\n",
    "    def stop(self):\n",
    "        print(\" B is stopped\")\n",
    "\n",
    "class C(A):\n",
    "    def start(self):\n",
    "        print(\"C is Started\")\n",
    "\n",
    "    def running(self):\n",
    "        print(\"C is running\")"
   ]
  },
  {
   "cell_type": "code",
   "execution_count": 63,
   "id": "8c76c3de-c7ce-49be-9c2b-22ccba88a9db",
   "metadata": {},
   "outputs": [
    {
     "ename": "TypeError",
     "evalue": "Can't instantiate abstract class A with abstract methods running, start, stop",
     "output_type": "error",
     "traceback": [
      "\u001b[1;31m---------------------------------------------------------------------------\u001b[0m",
      "\u001b[1;31mTypeError\u001b[0m                                 Traceback (most recent call last)",
      "Cell \u001b[1;32mIn[63], line 1\u001b[0m\n\u001b[1;32m----> 1\u001b[0m a \u001b[38;5;241m=\u001b[39m\u001b[43mA\u001b[49m\u001b[43m(\u001b[49m\u001b[43m)\u001b[49m \u001b[38;5;66;03m# once a class is declared as abstract class we can't create object to it\u001b[39;00m\n",
      "\u001b[1;31mTypeError\u001b[0m: Can't instantiate abstract class A with abstract methods running, start, stop"
     ]
    }
   ],
   "source": [
    "a =A() # once a class is declared as abstract class we can't create object to it"
   ]
  },
  {
   "cell_type": "code",
   "execution_count": 64,
   "id": "ff0847b4-8979-450a-a136-33fb261ef4ec",
   "metadata": {},
   "outputs": [
    {
     "name": "stdout",
     "output_type": "stream",
     "text": [
      "B is started\n",
      "B is Running\n",
      " B is stopped\n"
     ]
    }
   ],
   "source": [
    "b = B()\n",
    "b.start()\n",
    "b.running()\n",
    "b.stop()"
   ]
  },
  {
   "cell_type": "code",
   "execution_count": 65,
   "id": "211de11d-3b27-48a1-bb15-6e3161b183ec",
   "metadata": {},
   "outputs": [
    {
     "ename": "TypeError",
     "evalue": "Can't instantiate abstract class C with abstract method stop",
     "output_type": "error",
     "traceback": [
      "\u001b[1;31m---------------------------------------------------------------------------\u001b[0m",
      "\u001b[1;31mTypeError\u001b[0m                                 Traceback (most recent call last)",
      "Cell \u001b[1;32mIn[65], line 1\u001b[0m\n\u001b[1;32m----> 1\u001b[0m c \u001b[38;5;241m=\u001b[39m \u001b[43mC\u001b[49m\u001b[43m(\u001b[49m\u001b[43m)\u001b[49m\n\u001b[0;32m      2\u001b[0m c\u001b[38;5;241m.\u001b[39mstart()\n\u001b[0;32m      3\u001b[0m c\u001b[38;5;241m.\u001b[39mrunning()\n",
      "\u001b[1;31mTypeError\u001b[0m: Can't instantiate abstract class C with abstract method stop"
     ]
    }
   ],
   "source": [
    "c = C()\n",
    "c.start()\n",
    "c.running()"
   ]
  },
  {
   "cell_type": "code",
   "execution_count": null,
   "id": "50eb71c1-b916-4d38-820d-73d23d5fe6f3",
   "metadata": {},
   "outputs": [],
   "source": []
  }
 ],
 "metadata": {
  "kernelspec": {
   "display_name": "Python 3 (ipykernel)",
   "language": "python",
   "name": "python3"
  },
  "language_info": {
   "codemirror_mode": {
    "name": "ipython",
    "version": 3
   },
   "file_extension": ".py",
   "mimetype": "text/x-python",
   "name": "python",
   "nbconvert_exporter": "python",
   "pygments_lexer": "ipython3",
   "version": "3.9.13"
  }
 },
 "nbformat": 4,
 "nbformat_minor": 5
}

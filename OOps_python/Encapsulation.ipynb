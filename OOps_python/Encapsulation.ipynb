{
 "cells": [
  {
   "cell_type": "code",
   "execution_count": 6,
   "id": "a7a3746c-0336-41a4-9e20-ecba2520a20e",
   "metadata": {},
   "outputs": [],
   "source": [
    "# Encapsulations means a concept of wrapping variables and methods into a single unit.\n",
    "#This puts restrictions on accessing variables and methods directly and can prevent the accidental modification of data. \n",
    "#To prevent accidental change, an object’s variable can only be changed by an object’s method\n",
    "class Employee:\n",
    "    def __init__(self,name,age,salary):\n",
    "        self.name = name # public varibale \n",
    "        self._age = age # protected variable\n",
    "        self.__salary = salary # private Variable\n",
    "        \n",
    "    def display_details(self):\n",
    "        print(f\"{self.name},  {self._age}, {self.__salary}\")\n",
    "\n"
   ]
  },
  {
   "cell_type": "code",
   "execution_count": 7,
   "id": "e7774ea7-b28d-4953-abf2-487adbca1088",
   "metadata": {},
   "outputs": [
    {
     "name": "stdout",
     "output_type": "stream",
     "text": [
      "abc,  23, 65000\n"
     ]
    }
   ],
   "source": [
    "p = Employee('abc',23,65000)\n",
    "p.display_details()"
   ]
  },
  {
   "cell_type": "code",
   "execution_count": 14,
   "id": "99471b92-c857-4c66-8764-86bc89503bc3",
   "metadata": {},
   "outputs": [
    {
     "name": "stdout",
     "output_type": "stream",
     "text": [
      "abc\n",
      "23\n"
     ]
    },
    {
     "ename": "AttributeError",
     "evalue": "'Employee' object has no attribute '__salary'",
     "output_type": "error",
     "traceback": [
      "\u001b[1;31m---------------------------------------------------------------------------\u001b[0m",
      "\u001b[1;31mAttributeError\u001b[0m                            Traceback (most recent call last)",
      "Cell \u001b[1;32mIn[14], line 3\u001b[0m\n\u001b[0;32m      1\u001b[0m \u001b[38;5;28mprint\u001b[39m(p\u001b[38;5;241m.\u001b[39mname)\n\u001b[0;32m      2\u001b[0m \u001b[38;5;28mprint\u001b[39m(p\u001b[38;5;241m.\u001b[39m_age)\n\u001b[1;32m----> 3\u001b[0m \u001b[38;5;28mprint\u001b[39m(\u001b[43mp\u001b[49m\u001b[38;5;241;43m.\u001b[39;49m\u001b[43m__salary\u001b[49m)\n\u001b[0;32m      4\u001b[0m \u001b[38;5;28mprint\u001b[39m(p\u001b[38;5;241m.\u001b[39m_Employee__salary)\n",
      "\u001b[1;31mAttributeError\u001b[0m: 'Employee' object has no attribute '__salary'"
     ]
    }
   ],
   "source": [
    "print(p.name)\n",
    "print(p._age)\n",
    "print(p.__salary)\n",
    "print(p._Employee__salary)"
   ]
  },
  {
   "cell_type": "code",
   "execution_count": 20,
   "id": "acab4baf-f5ca-4ded-9f5c-ffc6bf5f65e9",
   "metadata": {},
   "outputs": [],
   "source": [
    "class Employee:\n",
    "    def __init__(self,name,age,salary):\n",
    "        self.name = name # public varibale \n",
    "        self._age = age # protected variable\n",
    "        self.__salary = salary # private Variable\n",
    "        \n",
    "    def display_details(self):\n",
    "        print(f\"{self.name},  {self._age}, {self.__salary}\")\n",
    "\n",
    "class project(Employee):\n",
    "    def __init__(self,name,age,salary):\n",
    "        super().__init__(name,age,salary)\n",
    "        print(self.name)\n",
    "        print(self._age)\n",
    "        print(self.__salary)\n",
    "\n",
    "        "
   ]
  },
  {
   "cell_type": "code",
   "execution_count": 23,
   "id": "ef8faa11-efb5-4b92-b050-e34dabfae965",
   "metadata": {},
   "outputs": [
    {
     "name": "stdout",
     "output_type": "stream",
     "text": [
      "abc\n",
      "23\n"
     ]
    },
    {
     "ename": "AttributeError",
     "evalue": "'project' object has no attribute '_project__salary'",
     "output_type": "error",
     "traceback": [
      "\u001b[1;31m---------------------------------------------------------------------------\u001b[0m",
      "\u001b[1;31mAttributeError\u001b[0m                            Traceback (most recent call last)",
      "Cell \u001b[1;32mIn[23], line 1\u001b[0m\n\u001b[1;32m----> 1\u001b[0m P \u001b[38;5;241m=\u001b[39m \u001b[43mproject\u001b[49m\u001b[43m(\u001b[49m\u001b[38;5;124;43m'\u001b[39;49m\u001b[38;5;124;43mabc\u001b[39;49m\u001b[38;5;124;43m'\u001b[39;49m\u001b[43m,\u001b[49m\u001b[38;5;241;43m23\u001b[39;49m\u001b[43m,\u001b[49m\u001b[38;5;241;43m65000\u001b[39;49m\u001b[43m)\u001b[49m\n",
      "Cell \u001b[1;32mIn[20], line 15\u001b[0m, in \u001b[0;36mproject.__init__\u001b[1;34m(self, name, age, salary)\u001b[0m\n\u001b[0;32m     13\u001b[0m \u001b[38;5;28mprint\u001b[39m(\u001b[38;5;28mself\u001b[39m\u001b[38;5;241m.\u001b[39mname)\n\u001b[0;32m     14\u001b[0m \u001b[38;5;28mprint\u001b[39m(\u001b[38;5;28mself\u001b[39m\u001b[38;5;241m.\u001b[39m_age)\n\u001b[1;32m---> 15\u001b[0m \u001b[38;5;28mprint\u001b[39m(\u001b[38;5;28;43mself\u001b[39;49m\u001b[38;5;241;43m.\u001b[39;49m\u001b[43m__salary\u001b[49m)\n",
      "\u001b[1;31mAttributeError\u001b[0m: 'project' object has no attribute '_project__salary'"
     ]
    }
   ],
   "source": [
    "P = project('abc',23,65000)\n",
    "p.display_details()"
   ]
  },
  {
   "cell_type": "code",
   "execution_count": 30,
   "id": "0f395bb0-6c3b-4e78-abe2-8cb98f2c40e1",
   "metadata": {},
   "outputs": [
    {
     "name": "stdout",
     "output_type": "stream",
     "text": [
      "abc,  23, 35000\n"
     ]
    }
   ],
   "source": [
    "E = Employee('abc',23,65000)\n",
    "E._Employee__salary = 35000\n",
    "E.__Employee = 50000\n",
    "E.display_details()"
   ]
  },
  {
   "cell_type": "code",
   "execution_count": 52,
   "id": "b3b2e45c-9400-4c03-bdbf-0624345d0a70",
   "metadata": {},
   "outputs": [],
   "source": [
    "class Employee:\n",
    "    def __init__(self,name,age,salary):\n",
    "        self.name = name # public varibale \n",
    "        self._age = age # protected variable\n",
    "        self.__salary = salary # private Variable\n",
    "    # getters\n",
    "    def get_age(self): # we can get values using getters\n",
    "        return self._age\n",
    "\n",
    "    def get__salary(self):\n",
    "        return self.__salary\n",
    "    #setters \n",
    "    def set_age(self,x): # we can assign values using setters\n",
    "        self._age = x\n",
    "    \n",
    "    def set__salary(self,x):\n",
    "        self.__salary = x\n",
    "        \n",
    "    def display_details(self):\n",
    "        print(f\"{self.name},  {self._age}, {self.__salary}\")"
   ]
  },
  {
   "cell_type": "code",
   "execution_count": 53,
   "id": "210adeae-8fe0-4fef-bbfd-b252591b6db8",
   "metadata": {},
   "outputs": [
    {
     "name": "stdout",
     "output_type": "stream",
     "text": [
      "abc,  23, 65000\n",
      "23\n",
      "65000\n"
     ]
    }
   ],
   "source": [
    "E = Employee('abc',23,65000)\n",
    "E.display_details()\n",
    "print(E.get_age())\n",
    "print(E.get__salary())"
   ]
  },
  {
   "cell_type": "code",
   "execution_count": 55,
   "id": "d2a33c16-76e4-41e7-be9b-9d2629fde0d6",
   "metadata": {},
   "outputs": [
    {
     "name": "stdout",
     "output_type": "stream",
     "text": [
      "abc,  20, 40000\n"
     ]
    }
   ],
   "source": [
    "E.set_age(20) #assigning values\n",
    "E.set__salary(40000) \n",
    "E.display_details()"
   ]
  },
  {
   "cell_type": "code",
   "execution_count": null,
   "id": "0e17db06-2968-491f-9e02-1d039c4a89fd",
   "metadata": {},
   "outputs": [],
   "source": []
  }
 ],
 "metadata": {
  "kernelspec": {
   "display_name": "Python 3 (ipykernel)",
   "language": "python",
   "name": "python3"
  },
  "language_info": {
   "codemirror_mode": {
    "name": "ipython",
    "version": 3
   },
   "file_extension": ".py",
   "mimetype": "text/x-python",
   "name": "python",
   "nbconvert_exporter": "python",
   "pygments_lexer": "ipython3",
   "version": "3.9.13"
  }
 },
 "nbformat": 4,
 "nbformat_minor": 5
}

{
 "cells": [
  {
   "cell_type": "markdown",
   "id": "9682406e-7ce4-4350-8a8f-61b50c3e13be",
   "metadata": {},
   "source": [
    "## Single Level Inheritence"
   ]
  },
  {
   "cell_type": "code",
   "execution_count": 11,
   "id": "c4bc3865-6368-4985-a725-ef497dbd828c",
   "metadata": {},
   "outputs": [],
   "source": [
    "class A:\n",
    "    def a1(self):\n",
    "        print('a1 function is called')\n",
    "        \n",
    "    def a2(self):\n",
    "        print('a2 function is called')\n",
    "\n",
    "class B(A):\n",
    "    def b1(self):\n",
    "        print('b1 function is called')\n",
    "    def b2(self):\n",
    "        print('b2 function is called')"
   ]
  },
  {
   "cell_type": "code",
   "execution_count": 13,
   "id": "9ae5f01a-f062-4643-a1c8-9c3fe1342234",
   "metadata": {},
   "outputs": [
    {
     "name": "stdout",
     "output_type": "stream",
     "text": [
      "a1 function is called\n",
      "a2 function is called\n"
     ]
    }
   ],
   "source": [
    "a = A()\n",
    "a.a1()\n",
    "a.a2()"
   ]
  },
  {
   "cell_type": "code",
   "execution_count": 16,
   "id": "0ce233d2-90bc-45e3-9e5d-39d838698689",
   "metadata": {},
   "outputs": [
    {
     "name": "stdout",
     "output_type": "stream",
     "text": [
      "a1 function is called\n",
      "a2 function is called\n",
      "b1 function is called\n",
      "b2 function is called\n"
     ]
    }
   ],
   "source": [
    "b=B()\n",
    "b.a1()\n",
    "b.a2()\n",
    "b.b1()\n",
    "b.b2()"
   ]
  },
  {
   "cell_type": "markdown",
   "id": "b5ef7e22-b608-4568-acf6-8e257959e6d3",
   "metadata": {},
   "source": [
    "## Multi-Level Inheritence"
   ]
  },
  {
   "cell_type": "code",
   "execution_count": 19,
   "id": "92a7170c-b909-4d4d-ae41-44cfeb4d1d76",
   "metadata": {},
   "outputs": [],
   "source": [
    "class A:\n",
    "    def a1(self):\n",
    "        print('a1 function is called')\n",
    "        \n",
    "    def a2(self):\n",
    "        print('a2 function is called')\n",
    "\n",
    "class B(A):\n",
    "    def b1(self):\n",
    "        print('b1 function is called')\n",
    "    def b2(self):\n",
    "        print('b2 function is called')\n",
    "\n",
    "class C(B):\n",
    "    def c1(self):\n",
    "        print('c1 function is called')\n",
    "\n",
    "    def c2(self):\n",
    "        print('c2 function is called')"
   ]
  },
  {
   "cell_type": "code",
   "execution_count": 20,
   "id": "cde1822c-d9fb-443b-a105-8eb81dc6f890",
   "metadata": {},
   "outputs": [
    {
     "name": "stdout",
     "output_type": "stream",
     "text": [
      "a1 function is called\n",
      "a2 function is called\n",
      "b1 function is called\n",
      "b2 function is called\n"
     ]
    }
   ],
   "source": [
    "b=B()\n",
    "b.a1()\n",
    "b.a2()\n",
    "b.b1()\n",
    "b.b2()"
   ]
  },
  {
   "cell_type": "code",
   "execution_count": 21,
   "id": "fdc2bae6-87ae-4242-b2df-aca7faa0bd99",
   "metadata": {},
   "outputs": [
    {
     "name": "stdout",
     "output_type": "stream",
     "text": [
      "a1 function is called\n",
      "a2 function is called\n",
      "b1 function is called\n",
      "b2 function is called\n",
      "c1 function is called\n",
      "c2 function is called\n"
     ]
    }
   ],
   "source": [
    "c = C()\n",
    "c.a1()\n",
    "c.a2()\n",
    "c.b1()\n",
    "c.b2()\n",
    "c.c1()\n",
    "c.c2()"
   ]
  },
  {
   "cell_type": "markdown",
   "id": "9bee38d6-1fe9-416c-b1b6-c8336df4d067",
   "metadata": {},
   "source": [
    "## Multiple Inheritence"
   ]
  },
  {
   "cell_type": "code",
   "execution_count": 22,
   "id": "5d409dc0-c70e-4ab4-885a-a3af4d567fe6",
   "metadata": {},
   "outputs": [],
   "source": [
    "class A:\n",
    "    def a1(self):\n",
    "        print('a1 function is called')\n",
    "        \n",
    "    def a2(self):\n",
    "        print('a2 function is called')\n",
    "\n",
    "class B:\n",
    "    def b1(self):\n",
    "        print('b1 function is called')\n",
    "    def b2(self):\n",
    "        print('b2 function is called')\n",
    "\n",
    "class C(A,B):\n",
    "    def c1(self):\n",
    "        print('c1 function is called')\n",
    "\n",
    "    def c2(self):\n",
    "        print('c2 function is called')"
   ]
  },
  {
   "cell_type": "code",
   "execution_count": 24,
   "id": "51a6d268-9756-4080-933c-fe6f2f80b003",
   "metadata": {},
   "outputs": [
    {
     "name": "stdout",
     "output_type": "stream",
     "text": [
      "a1 function is called\n",
      "a2 function is called\n",
      "b1 function is called\n",
      "b2 function is called\n",
      "c1 function is called\n",
      "c2 function is called\n"
     ]
    }
   ],
   "source": [
    "c = C()\n",
    "c.a1()\n",
    "c.a2()\n",
    "c.b1()\n",
    "c.b2()\n",
    "c.c1()\n",
    "c.c2()"
   ]
  },
  {
   "cell_type": "markdown",
   "id": "384b2ba8-9b0b-411e-b2c8-d4e0e3a8d6dd",
   "metadata": {},
   "source": [
    "## Constructor in interitence"
   ]
  },
  {
   "cell_type": "code",
   "execution_count": 40,
   "id": "ac8d894c-b1b4-4cd1-830f-30f1ddfc2e4e",
   "metadata": {},
   "outputs": [],
   "source": [
    "class A:\n",
    "    def __init__(self):\n",
    "        print('a init is called')\n",
    "        \n",
    "    def a1(self):\n",
    "        print('a1 function is called')\n",
    "        \n",
    "    def a2(self):\n",
    "        print('a2 function is called')\n",
    "\n",
    "class B(A):\n",
    "    def __init__(self):\n",
    "        print('B init is called')\n",
    "        \n",
    "    def b1(self):\n",
    "        print('b1 function is called')\n",
    "        \n",
    "    def b2(self):\n",
    "        print('b2 function is called')\n",
    "\n",
    "class C(B):\n",
    "    def __init__(self):\n",
    "        print('C init is called')\n",
    "        A.__init__(self)\n",
    "        B.__init__(self)\n",
    "        super().__init__()\n",
    "    def c1(self):\n",
    "        print('c1 function is called')\n",
    "\n",
    "    def c2(self):\n",
    "        print('c2 function is called')"
   ]
  },
  {
   "cell_type": "code",
   "execution_count": 41,
   "id": "02771fe1-f79d-4e0b-966a-de71020c7fbe",
   "metadata": {},
   "outputs": [
    {
     "name": "stdout",
     "output_type": "stream",
     "text": [
      "C init is called\n",
      "a init is called\n",
      "B init is called\n",
      "B init is called\n"
     ]
    }
   ],
   "source": [
    "c= C()\n"
   ]
  },
  {
   "cell_type": "code",
   "execution_count": 58,
   "id": "12b6984c-b390-4c91-84dc-905799f34026",
   "metadata": {},
   "outputs": [],
   "source": [
    "class A:\n",
    "    def __init__(self):\n",
    "        print('a init is called')\n",
    "        \n",
    "    def a1(self):\n",
    "        print('a1 function is called')\n",
    "        \n",
    "    def a2(self):\n",
    "        print('a2 function is called')\n",
    "\n",
    "class B:\n",
    "    def __init__(self):\n",
    "        print('B init is called')\n",
    "        \n",
    "    def b1(self):\n",
    "        print('b1 function is called')\n",
    "    def b2(self):\n",
    "        print('b2 function is called')\n",
    "\n",
    "class C(A,B):\n",
    "    def __init__(self):\n",
    "        print('C init is called')\n",
    "        super().__init__()\n",
    "        \n",
    "    def c1(self):\n",
    "        print('c1 function is called')\n",
    "\n",
    "    def c2(self):\n",
    "        print('c2 function is called')\n",
    "\n",
    "    def c3(self):\n",
    "        super().b2()\n",
    "        super().a2()"
   ]
  },
  {
   "cell_type": "code",
   "execution_count": 59,
   "id": "b535e8ee-0378-4ce2-ae3e-40e58a96574b",
   "metadata": {},
   "outputs": [
    {
     "name": "stdout",
     "output_type": "stream",
     "text": [
      "C init is called\n",
      "a init is called\n",
      "b2 function is called\n",
      "a2 function is called\n"
     ]
    }
   ],
   "source": [
    "c= C()\n",
    "c.c3()"
   ]
  },
  {
   "cell_type": "code",
   "execution_count": null,
   "id": "89423b7c-30d5-4f1e-bf58-8a137ad5bcd8",
   "metadata": {},
   "outputs": [],
   "source": []
  }
 ],
 "metadata": {
  "kernelspec": {
   "display_name": "Python 3 (ipykernel)",
   "language": "python",
   "name": "python3"
  },
  "language_info": {
   "codemirror_mode": {
    "name": "ipython",
    "version": 3
   },
   "file_extension": ".py",
   "mimetype": "text/x-python",
   "name": "python",
   "nbconvert_exporter": "python",
   "pygments_lexer": "ipython3",
   "version": "3.9.13"
  }
 },
 "nbformat": 4,
 "nbformat_minor": 5
}

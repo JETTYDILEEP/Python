{
 "cells": [
  {
   "cell_type": "markdown",
   "id": "6f1e9cbf-5c52-4213-b44c-fb8fe137daea",
   "metadata": {},
   "source": [
    "## Duck Typing"
   ]
  },
  {
   "cell_type": "code",
   "execution_count": 5,
   "id": "c56c5339-1b1e-4394-954e-709a47ee116a",
   "metadata": {},
   "outputs": [],
   "source": [
    "class a:\n",
    "    def print_details(self):\n",
    "        print('class a is printing')\n",
    "\n",
    "class b:\n",
    "    def print_details(self):\n",
    "        print('class b is printing')\n",
    "\n",
    "class c:\n",
    "    def calling_func(self,func_name):\n",
    "        func_name.print_details()"
   ]
  },
  {
   "cell_type": "code",
   "execution_count": 6,
   "id": "30a82b9f-e5ec-45a6-9439-cff2fe0c076b",
   "metadata": {},
   "outputs": [
    {
     "name": "stdout",
     "output_type": "stream",
     "text": [
      "class b is printing\n"
     ]
    }
   ],
   "source": [
    "c = c()\n",
    "b = b()\n",
    "a=a()\n",
    "c.calling_func(b)"
   ]
  },
  {
   "cell_type": "code",
   "execution_count": 8,
   "id": "01c67480-f07f-426a-ae47-cbfb96624eae",
   "metadata": {},
   "outputs": [
    {
     "name": "stdout",
     "output_type": "stream",
     "text": [
      "class a is printing\n"
     ]
    }
   ],
   "source": [
    "c.calling_func(a)"
   ]
  },
  {
   "cell_type": "markdown",
   "id": "d5c232e7-42b6-42d3-9282-7b5a95dc70ca",
   "metadata": {},
   "source": [
    "## Operator Overloading"
   ]
  },
  {
   "cell_type": "code",
   "execution_count": 33,
   "id": "e4009f48-0192-4a6f-b3ad-80afc336914a",
   "metadata": {},
   "outputs": [],
   "source": [
    "# we can change the functionality operators like +,-,*,/ using special functions in a class  is called operator overloading\n",
    "class Student:\n",
    "    def __init__(self, sub1,sub2):\n",
    "        self.sub1 = sub1\n",
    "        self.sub2 = sub2\n",
    "\n",
    "    def __add__(self,other): # overloading the + using __add__ special func to add subjects of different students\n",
    "        a = self.sub1+other.sub1\n",
    "        b = self.sub2+other.sub2\n",
    "        c = Student(a,b)\n",
    "        return c\n",
    "\n",
    "    def __sub__(self,other): # overloading the - using __sub__ special func to subtrac subjects of different students\n",
    "        a = self.sub1-other.sub1\n",
    "        b = self.sub2-other.sub2\n",
    "        c = Student(a,b)\n",
    "        return c\n",
    "        \n",
    "    def __str__(self): # returns the subjects which instanciated to current class objects\n",
    "        return f'{self.sub1} {self.sub2}'"
   ]
  },
  {
   "cell_type": "code",
   "execution_count": 41,
   "id": "f4eaff31-a67f-4a93-abdd-de702114541e",
   "metadata": {},
   "outputs": [],
   "source": [
    "s = Student(45,20)\n",
    "s1 = Student(90,89)\n",
    "c = s+s1 # it means Student.__add__(s,s1)\n",
    "d = s-s1 # it means Student.__sub__(s,s1)"
   ]
  },
  {
   "cell_type": "code",
   "execution_count": 42,
   "id": "4264bd0e-b955-4d4b-8cdb-9f29da335cd0",
   "metadata": {},
   "outputs": [
    {
     "name": "stdout",
     "output_type": "stream",
     "text": [
      "135 109\n",
      "-45 -69\n"
     ]
    }
   ],
   "source": [
    "print(c.sub1,c.sub2)\n",
    "print(d.sub1,d.sub2)"
   ]
  },
  {
   "cell_type": "code",
   "execution_count": 45,
   "id": "0b841ab0-956b-4e78-a141-f709c318a332",
   "metadata": {},
   "outputs": [
    {
     "name": "stdout",
     "output_type": "stream",
     "text": [
      "45 20\n",
      "90 89\n",
      "135 109\n",
      "-45 -69\n"
     ]
    }
   ],
   "source": [
    "print(s)\n",
    "print(s1)\n",
    "print(c)\n",
    "print(d)"
   ]
  },
  {
   "cell_type": "markdown",
   "id": "974624f0-0f9f-4ad0-bced-62f9fea53714",
   "metadata": {},
   "source": [
    "## Method Overloading"
   ]
  },
  {
   "cell_type": "code",
   "execution_count": 50,
   "id": "651c4a31-5843-4a21-9a47-df91f9c192c2",
   "metadata": {},
   "outputs": [],
   "source": [
    "# A function with same name and different parameters is called method overloading\n",
    "# in python we can't achieve method overloading but we can achieve its functionality\n",
    "\n",
    "class A:\n",
    "    def add_values(self,a=0,b=0,c=0):# by assign the 0 to args if the value don't passed to this function it can take the assigned values by default\n",
    "        s = a+b+c\n",
    "        return s"
   ]
  },
  {
   "cell_type": "code",
   "execution_count": 51,
   "id": "b16f58a0-9ee0-455c-bde9-d921bfdc6094",
   "metadata": {},
   "outputs": [
    {
     "name": "stdout",
     "output_type": "stream",
     "text": [
      "6\n"
     ]
    }
   ],
   "source": [
    "a =A()\n",
    "s = a.add_values(1,2,3)\n",
    "print(s)"
   ]
  },
  {
   "cell_type": "code",
   "execution_count": 52,
   "id": "563efbb1-a415-46fa-a2ec-974330dbd17b",
   "metadata": {},
   "outputs": [
    {
     "name": "stdout",
     "output_type": "stream",
     "text": [
      "3\n"
     ]
    }
   ],
   "source": [
    "d = a.add_values(1,2)\n",
    "print(d)"
   ]
  },
  {
   "cell_type": "code",
   "execution_count": 53,
   "id": "bc9faf28-2855-4ea6-b4c8-2922f8de2787",
   "metadata": {},
   "outputs": [
    {
     "name": "stdout",
     "output_type": "stream",
     "text": [
      "1\n"
     ]
    }
   ],
   "source": [
    "m = a.add_values(1)\n",
    "print(m)"
   ]
  },
  {
   "cell_type": "markdown",
   "id": "04362d0e-87c9-4845-9553-c52e46aa3be6",
   "metadata": {},
   "source": [
    "## Method Overriding"
   ]
  },
  {
   "cell_type": "code",
   "execution_count": null,
   "id": "1093972d-b8c4-4de2-b4f0-ac821c38c6db",
   "metadata": {},
   "outputs": [],
   "source": [
    "class Parent_class:\n",
    "    def details(self):\n",
    "        print(\"in Parent_class\")\n",
    "    def show(self):\n",
    "        print(\"Show in Parent Class\")\n",
    "\n",
    "class child_class(Parent_class):\n",
    "    def details(self):\n",
    "        print(\"in Child_class\")"
   ]
  },
  {
   "cell_type": "code",
   "execution_count": 62,
   "id": "7e9a6219-b864-4968-9f89-da59afc2ac19",
   "metadata": {},
   "outputs": [
    {
     "name": "stdout",
     "output_type": "stream",
     "text": [
      "in Child_class\n"
     ]
    }
   ],
   "source": [
    "c = child_class()\n",
    "c.details()"
   ]
  },
  {
   "cell_type": "code",
   "execution_count": 63,
   "id": "5b32564c-2f86-4e16-a14a-5b2efb0d5960",
   "metadata": {},
   "outputs": [
    {
     "name": "stdout",
     "output_type": "stream",
     "text": [
      "in Parent_class\n"
     ]
    }
   ],
   "source": [
    "p = Parent_class()\n",
    "p.details()"
   ]
  },
  {
   "cell_type": "code",
   "execution_count": 64,
   "id": "5d7693c2-4dc8-4feb-be38-d3938709c188",
   "metadata": {},
   "outputs": [
    {
     "name": "stdout",
     "output_type": "stream",
     "text": [
      "Show in Parent Class\n"
     ]
    }
   ],
   "source": [
    "c.show()"
   ]
  },
  {
   "cell_type": "code",
   "execution_count": null,
   "id": "9af8bcae-a1be-477f-9e21-a7dfc9726c71",
   "metadata": {},
   "outputs": [],
   "source": []
  }
 ],
 "metadata": {
  "kernelspec": {
   "display_name": "Python 3 (ipykernel)",
   "language": "python",
   "name": "python3"
  },
  "language_info": {
   "codemirror_mode": {
    "name": "ipython",
    "version": 3
   },
   "file_extension": ".py",
   "mimetype": "text/x-python",
   "name": "python",
   "nbconvert_exporter": "python",
   "pygments_lexer": "ipython3",
   "version": "3.9.13"
  }
 },
 "nbformat": 4,
 "nbformat_minor": 5
}

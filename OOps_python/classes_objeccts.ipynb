{
 "cells": [
  {
   "cell_type": "markdown",
   "id": "d39c28bf-631f-4025-9c07-57d9daeb9e6a",
   "metadata": {},
   "source": [
    "## Class and oject of class"
   ]
  },
  {
   "cell_type": "code",
   "execution_count": 1,
   "id": "7d95d250-860a-4edc-8994-fee29b5b4173",
   "metadata": {},
   "outputs": [],
   "source": [
    "class checking:\n",
    "    def test_print(self):\n",
    "        print('test Printing')\n",
    "\n"
   ]
  },
  {
   "cell_type": "code",
   "execution_count": 2,
   "id": "0d6b6c7e-4980-4a8f-9654-0db2f0de2083",
   "metadata": {},
   "outputs": [
    {
     "name": "stdout",
     "output_type": "stream",
     "text": [
      "test Printing\n"
     ]
    }
   ],
   "source": [
    "obj = checking()\n",
    "obj.test_print()"
   ]
  },
  {
   "cell_type": "code",
   "execution_count": 3,
   "id": "79133cd6-88a1-4b90-83b4-3b90d7f30528",
   "metadata": {},
   "outputs": [
    {
     "ename": "TypeError",
     "evalue": "test_print() missing 1 required positional argument: 'self'",
     "output_type": "error",
     "traceback": [
      "\u001b[1;31m---------------------------------------------------------------------------\u001b[0m",
      "\u001b[1;31mTypeError\u001b[0m                                 Traceback (most recent call last)",
      "Cell \u001b[1;32mIn[3], line 1\u001b[0m\n\u001b[1;32m----> 1\u001b[0m \u001b[43mchecking\u001b[49m\u001b[38;5;241;43m.\u001b[39;49m\u001b[43mtest_print\u001b[49m\u001b[43m(\u001b[49m\u001b[43m)\u001b[49m\n",
      "\u001b[1;31mTypeError\u001b[0m: test_print() missing 1 required positional argument: 'self'"
     ]
    }
   ],
   "source": [
    "checking.test_print()"
   ]
  },
  {
   "cell_type": "code",
   "execution_count": 4,
   "id": "45e55175-468d-4bba-a4a6-c7b022bd1333",
   "metadata": {},
   "outputs": [
    {
     "name": "stdout",
     "output_type": "stream",
     "text": [
      "test Printing\n"
     ]
    }
   ],
   "source": [
    "checking.test_print(obj)"
   ]
  },
  {
   "cell_type": "markdown",
   "id": "b0ea463e-f6ea-489a-880c-c287cc246a1b",
   "metadata": {},
   "source": [
    "## init in class\n"
   ]
  },
  {
   "cell_type": "code",
   "execution_count": 5,
   "id": "f3d93161-4ea3-4ad2-b5e0-9d41b1269fa2",
   "metadata": {},
   "outputs": [],
   "source": [
    "class computer:\n",
    "    def __init__(self, brand, processor, ram):\n",
    "        self.brand = brand\n",
    "        self.processor = processor\n",
    "        self.ram = ram\n",
    "        self.country = 'india'\n",
    "\n",
    "    def price_inr(self,price):\n",
    "        self.price = int(price) + 100\n",
    "        print(f\"price = {self.price}\")\n",
    "\n",
    "    def print_details(self,price):\n",
    "        print(f\"brand = {self.brand}\")\n",
    "        print(f\"processor = {self.processor}\")\n",
    "        print(f\"ram = {self.ram}\")\n",
    "        self.price_inr(price)\n",
    "        print(f\"country = {self.country}\")\n"
   ]
  },
  {
   "cell_type": "code",
   "execution_count": 6,
   "id": "231dc4bf-6f55-4248-9155-eee11903d96c",
   "metadata": {},
   "outputs": [
    {
     "name": "stdout",
     "output_type": "stream",
     "text": [
      "brand = hp\n",
      "processor = i5\n",
      "ram = 4gb\n",
      "price = 100100\n",
      "country = india\n"
     ]
    }
   ],
   "source": [
    "computer('hp','i5','4gb').print_details('100000')"
   ]
  },
  {
   "cell_type": "code",
   "execution_count": 7,
   "id": "59746f91-d0a9-4a27-9c41-15a2035f42fc",
   "metadata": {},
   "outputs": [
    {
     "name": "stdout",
     "output_type": "stream",
     "text": [
      "brand = hp\n",
      "processor = i5\n",
      "ram = 4gb\n",
      "price = 65100\n",
      "country = india\n"
     ]
    }
   ],
   "source": [
    "com = computer('hp','i5','4gb')\n",
    "com.print_details('65000')"
   ]
  },
  {
   "cell_type": "code",
   "execution_count": 8,
   "id": "1591623d-1c02-4282-b406-be968daf713b",
   "metadata": {},
   "outputs": [
    {
     "name": "stdout",
     "output_type": "stream",
     "text": [
      "brand = dell\n",
      "processor = ryzen 5\n",
      "ram = 16gb\n",
      "price = 55100\n",
      "country = india\n"
     ]
    }
   ],
   "source": [
    "com2 = computer('dell','ryzen 5','16gb')\n",
    "com2.print_details('55000')"
   ]
  },
  {
   "cell_type": "code",
   "execution_count": 9,
   "id": "70681fac-caa2-4dad-96ab-aaaafa790239",
   "metadata": {},
   "outputs": [
    {
     "name": "stdout",
     "output_type": "stream",
     "text": [
      "brand = dell\n",
      "processor = ryzen 5\n",
      "ram = 16gb\n",
      "price = 70100\n",
      "country = india\n"
     ]
    }
   ],
   "source": [
    "com3 = computer('dell','ryzen 5','16gb')\n",
    "com3.print_details('70000')\n",
    "# com3.price_inr(500000)"
   ]
  },
  {
   "cell_type": "markdown",
   "id": "01374ca0-c03f-4172-9301-b1004c734907",
   "metadata": {},
   "source": [
    "## Types of Variables\n",
    "### 1. instance variable\n",
    "### 2. Calss Variable"
   ]
  },
  {
   "cell_type": "code",
   "execution_count": 10,
   "id": "b179a497-db87-4d22-81f5-a421727dae51",
   "metadata": {},
   "outputs": [],
   "source": [
    "class share:\n",
    "    time = '2:00pm'# class variable\n",
    "    def __init__(self):\n",
    "        self.price = 100 # instance variable\n",
    "        self.quantity = 5\n",
    "\n",
    "s1 = share()\n",
    "s2 = share()\n",
    "s2.price = 150\n",
    "# s2.time = '3:00pm'\n"
   ]
  },
  {
   "cell_type": "code",
   "execution_count": 11,
   "id": "c74ea716-9881-43ce-95c8-ad5c9d382d04",
   "metadata": {},
   "outputs": [
    {
     "name": "stdout",
     "output_type": "stream",
     "text": [
      "100 5 2:00pm\n",
      "150 5 2:00pm\n"
     ]
    }
   ],
   "source": [
    "print(s1.price,s1.quantity,s1.time)\n",
    "print(s2.price,s2.quantity,s2.time)"
   ]
  },
  {
   "cell_type": "code",
   "execution_count": 12,
   "id": "2d2fec5a-8e39-42f2-823d-cc99d99850c2",
   "metadata": {},
   "outputs": [
    {
     "name": "stdout",
     "output_type": "stream",
     "text": [
      "100 5 3:33pm\n",
      "150 5 3:33pm\n"
     ]
    }
   ],
   "source": [
    "share.time = '3:33pm'\n",
    "print(s1.price,s1.quantity,s1.time)\n",
    "print(s2.price,s2.quantity,s2.time)"
   ]
  },
  {
   "cell_type": "markdown",
   "id": "1a335e1a-4fd7-4e3f-9ac3-c092ff6db40d",
   "metadata": {},
   "source": [
    "## Methods\n",
    "### 1.Instance Method\n",
    "### 2.Class Method\n",
    "### 3. Static Method"
   ]
  },
  {
   "cell_type": "code",
   "execution_count": null,
   "id": "5f783fd1-05ad-4de3-bcb9-3f5be27a1abf",
   "metadata": {},
   "outputs": [],
   "source": []
  },
  {
   "cell_type": "markdown",
   "id": "70c66e52-b141-4414-8ff9-faf191aabda6",
   "metadata": {},
   "source": [
    "## Inner class\n"
   ]
  },
  {
   "cell_type": "code",
   "execution_count": 65,
   "id": "695377b9-620e-4cfa-91ed-e8a7da7c4abf",
   "metadata": {},
   "outputs": [],
   "source": [
    "class Employee:\n",
    "    def __init__(self, empid, designation):\n",
    "        self.empid = empid\n",
    "        self.des = designation\n",
    "        # self.proj = self.project()\n",
    "\n",
    "    def emp_details(self):\n",
    "        print(f'empid = {self.empid}')\n",
    "        print(f'designation = {self.des}')\n",
    "\n",
    "\n",
    "\n",
    "    class project:\n",
    "        def __init__(self, projectName, Domain):\n",
    "            self.pName = projectName\n",
    "            self.Dom = Domain\n",
    "            # self.sal = self.salary()\n",
    "\n",
    "        def proj_details(self):\n",
    "            print(f'Project Name = {self.pName}')\n",
    "            print(f'Domain Name = {self.Dom}')\n",
    "            # self.salary.sal_details()\n",
    "\n",
    "         \n",
    "        class salary:\n",
    "            def __init__(self, CurrSalary, MarketRange):\n",
    "                self.CurrSal = CurrSalary\n",
    "                self.MarkRange = MarketRange\n",
    "            \n",
    "            def sal_details(self):\n",
    "                print(f'Current Salary = {self.CurrSal}')\n",
    "                print(f'Market Range = {self.MarkRange}')\n"
   ]
  },
  {
   "cell_type": "code",
   "execution_count": 66,
   "id": "81b2e558-c9ea-43d2-99fe-4898a34acf41",
   "metadata": {},
   "outputs": [],
   "source": [
    "e1 = Employee('1241','Systems Engineer')\n",
    "e1_proj = e1.project('abc','int')\n",
    "e1_sal = e1_proj.salary(20000, 25000)\n"
   ]
  },
  {
   "cell_type": "code",
   "execution_count": 68,
   "id": "125f126d-b873-4266-9579-e7c7201009f1",
   "metadata": {},
   "outputs": [
    {
     "name": "stdout",
     "output_type": "stream",
     "text": [
      "empid = 1241\n",
      "designation = Systems Engineer\n",
      "Project Name = abc\n",
      "Domain Name = int\n",
      "Current Salary = 20000\n",
      "Market Range = 25000\n"
     ]
    }
   ],
   "source": [
    "e1.emp_details()\n",
    "e1_proj.proj_details()\n",
    "e1_sal.sal_details()"
   ]
  },
  {
   "cell_type": "code",
   "execution_count": 19,
   "id": "53e39329-5943-4f59-8fdc-88da366b4b88",
   "metadata": {},
   "outputs": [
    {
     "name": "stdout",
     "output_type": "stream",
     "text": [
      "Outermost value: outermost\n",
      "Nested1 value: nested1\n",
      "Nested2 value: nested2\n",
      "Nested3 value: nested3\n"
     ]
    }
   ],
   "source": [
    "class OutermostClass:\n",
    "    def __init__(self, outermost_value):\n",
    "        self.outermost_value = outermost_value\n",
    "    \n",
    "    class NestedClass1:\n",
    "        def __init__(self, nested1_value):\n",
    "            self.nested1_value = nested1_value\n",
    "        \n",
    "        def display(self):\n",
    "            print(\"Nested1 value:\", self.nested1_value)\n",
    "            \n",
    "        class NestedClass2:\n",
    "            def __init__(self, nested2_value):\n",
    "                self.nested2_value = nested2_value\n",
    "            \n",
    "            def display(self):\n",
    "                print(\"Nested2 value:\", self.nested2_value)\n",
    "                \n",
    "            class NestedClass3:\n",
    "                def __init__(self, nested3_value):\n",
    "                    self.nested3_value = nested3_value\n",
    "                \n",
    "                def display(self):\n",
    "                    print(\"Nested3 value:\", self.nested3_value)\n",
    "\n",
    "# Creating instances of the classes\n",
    "outermost_instance = OutermostClass(\"outermost\")\n",
    "nested1_instance = outermost_instance.NestedClass1(\"nested1\")\n",
    "nested2_instance = nested1_instance.NestedClass2(\"nested2\")\n",
    "nested3_instance = nested2_instance.NestedClass3(\"nested3\")\n",
    "\n",
    "# Accessing and displaying the values\n",
    "print(\"Outermost value:\", outermost_instance.outermost_value)\n",
    "nested1_instance.display()\n",
    "nested2_instance.display()\n",
    "nested3_instance.display()\n"
   ]
  },
  {
   "cell_type": "code",
   "execution_count": null,
   "id": "7c4ebd17-9f3e-422e-8ede-0cd176833c71",
   "metadata": {},
   "outputs": [],
   "source": []
  }
 ],
 "metadata": {
  "kernelspec": {
   "display_name": "Python 3 (ipykernel)",
   "language": "python",
   "name": "python3"
  },
  "language_info": {
   "codemirror_mode": {
    "name": "ipython",
    "version": 3
   },
   "file_extension": ".py",
   "mimetype": "text/x-python",
   "name": "python",
   "nbconvert_exporter": "python",
   "pygments_lexer": "ipython3",
   "version": "3.9.13"
  }
 },
 "nbformat": 4,
 "nbformat_minor": 5
}
